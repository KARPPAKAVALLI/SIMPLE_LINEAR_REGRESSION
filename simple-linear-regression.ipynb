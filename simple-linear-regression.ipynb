{
 "cells": [
  {
   "cell_type": "code",
   "execution_count": 1,
   "id": "bf9437e8",
   "metadata": {
    "_cell_guid": "b1076dfc-b9ad-4769-8c92-a6c4dae69d19",
    "_uuid": "8f2839f25d086af736a60e9eeb907d3b93b6e0e5",
    "execution": {
     "iopub.execute_input": "2022-12-25T15:52:19.753452Z",
     "iopub.status.busy": "2022-12-25T15:52:19.752252Z",
     "iopub.status.idle": "2022-12-25T15:52:19.769659Z",
     "shell.execute_reply": "2022-12-25T15:52:19.768531Z"
    },
    "papermill": {
     "duration": 0.027915,
     "end_time": "2022-12-25T15:52:19.772393",
     "exception": false,
     "start_time": "2022-12-25T15:52:19.744478",
     "status": "completed"
    },
    "tags": []
   },
   "outputs": [
    {
     "name": "stdout",
     "output_type": "stream",
     "text": [
      "/kaggle/input/salary-data-simple-linear-regression/Salary_Data.csv\n"
     ]
    }
   ],
   "source": [
    "# This Python 3 environment comes with many helpful analytics libraries installed\n",
    "# It is defined by the kaggle/python Docker image: https://github.com/kaggle/docker-python\n",
    "# For example, here's several helpful packages to load\n",
    "\n",
    "import numpy as np # linear algebra\n",
    "import pandas as pd # data processing, CSV file I/O (e.g. pd.read_csv)\n",
    "import matplotlib.pyplot as plt\n",
    "# Input data files are available in the read-only \"../input/\" directory\n",
    "# For example, running this (by clicking run or pressing Shift+Enter) will list all files under the input directory\n",
    "\n",
    "import os\n",
    "for dirname, _, filenames in os.walk('/kaggle/input'):\n",
    "    for filename in filenames:\n",
    "        print(os.path.join(dirname, filename))\n",
    "\n",
    "# You can write up to 20GB to the current directory (/kaggle/working/) that gets preserved as output when you create a version using \"Save & Run All\" \n",
    "# You can also write temporary files to /kaggle/temp/, but they won't be saved outside of the current session"
   ]
  },
  {
   "cell_type": "code",
   "execution_count": 2,
   "id": "f66cd8c5",
   "metadata": {
    "execution": {
     "iopub.execute_input": "2022-12-25T15:52:19.785137Z",
     "iopub.status.busy": "2022-12-25T15:52:19.784524Z",
     "iopub.status.idle": "2022-12-25T15:52:19.814786Z",
     "shell.execute_reply": "2022-12-25T15:52:19.813763Z"
    },
    "papermill": {
     "duration": 0.038641,
     "end_time": "2022-12-25T15:52:19.817010",
     "exception": false,
     "start_time": "2022-12-25T15:52:19.778369",
     "status": "completed"
    },
    "tags": []
   },
   "outputs": [
    {
     "data": {
      "text/plain": [
       "<bound method NDFrame.head of     YearsExperience    Salary\n",
       "0               1.1   39343.0\n",
       "1               1.3   46205.0\n",
       "2               1.5   37731.0\n",
       "3               2.0   43525.0\n",
       "4               2.2   39891.0\n",
       "5               2.9   56642.0\n",
       "6               3.0   60150.0\n",
       "7               3.2   54445.0\n",
       "8               3.2   64445.0\n",
       "9               3.7   57189.0\n",
       "10              3.9   63218.0\n",
       "11              4.0   55794.0\n",
       "12              4.0   56957.0\n",
       "13              4.1   57081.0\n",
       "14              4.5   61111.0\n",
       "15              4.9   67938.0\n",
       "16              5.1   66029.0\n",
       "17              5.3   83088.0\n",
       "18              5.9   81363.0\n",
       "19              6.0   93940.0\n",
       "20              6.8   91738.0\n",
       "21              7.1   98273.0\n",
       "22              7.9  101302.0\n",
       "23              8.2  113812.0\n",
       "24              8.7  109431.0\n",
       "25              9.0  105582.0\n",
       "26              9.5  116969.0\n",
       "27              9.6  112635.0\n",
       "28             10.3  122391.0\n",
       "29             10.5  121872.0>"
      ]
     },
     "execution_count": 2,
     "metadata": {},
     "output_type": "execute_result"
    }
   ],
   "source": [
    "data=pd.read_csv('/kaggle/input/salary-data-simple-linear-regression/Salary_Data.csv')\n",
    "data.head"
   ]
  },
  {
   "cell_type": "code",
   "execution_count": 3,
   "id": "6233ee10",
   "metadata": {
    "execution": {
     "iopub.execute_input": "2022-12-25T15:52:19.828989Z",
     "iopub.status.busy": "2022-12-25T15:52:19.828668Z",
     "iopub.status.idle": "2022-12-25T15:52:19.833950Z",
     "shell.execute_reply": "2022-12-25T15:52:19.832958Z"
    },
    "papermill": {
     "duration": 0.013379,
     "end_time": "2022-12-25T15:52:19.835945",
     "exception": false,
     "start_time": "2022-12-25T15:52:19.822566",
     "status": "completed"
    },
    "tags": []
   },
   "outputs": [],
   "source": [
    "X=data.iloc[:,:1].values\n",
    "y=data.iloc[:,1:2].values"
   ]
  },
  {
   "cell_type": "code",
   "execution_count": 4,
   "id": "501cca3e",
   "metadata": {
    "execution": {
     "iopub.execute_input": "2022-12-25T15:52:19.846997Z",
     "iopub.status.busy": "2022-12-25T15:52:19.846703Z",
     "iopub.status.idle": "2022-12-25T15:52:19.853361Z",
     "shell.execute_reply": "2022-12-25T15:52:19.852344Z"
    },
    "papermill": {
     "duration": 0.014706,
     "end_time": "2022-12-25T15:52:19.855423",
     "exception": false,
     "start_time": "2022-12-25T15:52:19.840717",
     "status": "completed"
    },
    "tags": []
   },
   "outputs": [
    {
     "data": {
      "text/plain": [
       "array([[ 1.1],\n",
       "       [ 1.3],\n",
       "       [ 1.5],\n",
       "       [ 2. ],\n",
       "       [ 2.2],\n",
       "       [ 2.9],\n",
       "       [ 3. ],\n",
       "       [ 3.2],\n",
       "       [ 3.2],\n",
       "       [ 3.7],\n",
       "       [ 3.9],\n",
       "       [ 4. ],\n",
       "       [ 4. ],\n",
       "       [ 4.1],\n",
       "       [ 4.5],\n",
       "       [ 4.9],\n",
       "       [ 5.1],\n",
       "       [ 5.3],\n",
       "       [ 5.9],\n",
       "       [ 6. ],\n",
       "       [ 6.8],\n",
       "       [ 7.1],\n",
       "       [ 7.9],\n",
       "       [ 8.2],\n",
       "       [ 8.7],\n",
       "       [ 9. ],\n",
       "       [ 9.5],\n",
       "       [ 9.6],\n",
       "       [10.3],\n",
       "       [10.5]])"
      ]
     },
     "execution_count": 4,
     "metadata": {},
     "output_type": "execute_result"
    }
   ],
   "source": [
    "X"
   ]
  },
  {
   "cell_type": "code",
   "execution_count": 5,
   "id": "e79e3d3d",
   "metadata": {
    "execution": {
     "iopub.execute_input": "2022-12-25T15:52:19.867244Z",
     "iopub.status.busy": "2022-12-25T15:52:19.866877Z",
     "iopub.status.idle": "2022-12-25T15:52:19.873232Z",
     "shell.execute_reply": "2022-12-25T15:52:19.872460Z"
    },
    "papermill": {
     "duration": 0.01445,
     "end_time": "2022-12-25T15:52:19.875206",
     "exception": false,
     "start_time": "2022-12-25T15:52:19.860756",
     "status": "completed"
    },
    "tags": []
   },
   "outputs": [
    {
     "data": {
      "text/plain": [
       "array([[ 39343.],\n",
       "       [ 46205.],\n",
       "       [ 37731.],\n",
       "       [ 43525.],\n",
       "       [ 39891.],\n",
       "       [ 56642.],\n",
       "       [ 60150.],\n",
       "       [ 54445.],\n",
       "       [ 64445.],\n",
       "       [ 57189.],\n",
       "       [ 63218.],\n",
       "       [ 55794.],\n",
       "       [ 56957.],\n",
       "       [ 57081.],\n",
       "       [ 61111.],\n",
       "       [ 67938.],\n",
       "       [ 66029.],\n",
       "       [ 83088.],\n",
       "       [ 81363.],\n",
       "       [ 93940.],\n",
       "       [ 91738.],\n",
       "       [ 98273.],\n",
       "       [101302.],\n",
       "       [113812.],\n",
       "       [109431.],\n",
       "       [105582.],\n",
       "       [116969.],\n",
       "       [112635.],\n",
       "       [122391.],\n",
       "       [121872.]])"
      ]
     },
     "execution_count": 5,
     "metadata": {},
     "output_type": "execute_result"
    }
   ],
   "source": [
    "y"
   ]
  },
  {
   "cell_type": "markdown",
   "id": "6d6ab5d6",
   "metadata": {
    "papermill": {
     "duration": 0.005106,
     "end_time": "2022-12-25T15:52:19.885348",
     "exception": false,
     "start_time": "2022-12-25T15:52:19.880242",
     "status": "completed"
    },
    "tags": []
   },
   "source": [
    "# no missing data in our dataset\n",
    "# so, we can skip that part"
   ]
  },
  {
   "cell_type": "code",
   "execution_count": 6,
   "id": "a48023ab",
   "metadata": {
    "execution": {
     "iopub.execute_input": "2022-12-25T15:52:19.897231Z",
     "iopub.status.busy": "2022-12-25T15:52:19.896496Z",
     "iopub.status.idle": "2022-12-25T15:52:20.872425Z",
     "shell.execute_reply": "2022-12-25T15:52:20.871321Z"
    },
    "papermill": {
     "duration": 0.984829,
     "end_time": "2022-12-25T15:52:20.875200",
     "exception": false,
     "start_time": "2022-12-25T15:52:19.890371",
     "status": "completed"
    },
    "tags": []
   },
   "outputs": [],
   "source": [
    "from sklearn.model_selection import train_test_split"
   ]
  },
  {
   "cell_type": "code",
   "execution_count": 7,
   "id": "a107ca1c",
   "metadata": {
    "execution": {
     "iopub.execute_input": "2022-12-25T15:52:20.891021Z",
     "iopub.status.busy": "2022-12-25T15:52:20.890617Z",
     "iopub.status.idle": "2022-12-25T15:52:20.895569Z",
     "shell.execute_reply": "2022-12-25T15:52:20.894685Z"
    },
    "papermill": {
     "duration": 0.01378,
     "end_time": "2022-12-25T15:52:20.897410",
     "exception": false,
     "start_time": "2022-12-25T15:52:20.883630",
     "status": "completed"
    },
    "tags": []
   },
   "outputs": [],
   "source": [
    "X_train,X_test,y_train,y_test=train_test_split(X,y,test_size=0.2)"
   ]
  },
  {
   "cell_type": "code",
   "execution_count": 8,
   "id": "cc427966",
   "metadata": {
    "execution": {
     "iopub.execute_input": "2022-12-25T15:52:20.909622Z",
     "iopub.status.busy": "2022-12-25T15:52:20.908956Z",
     "iopub.status.idle": "2022-12-25T15:52:20.915845Z",
     "shell.execute_reply": "2022-12-25T15:52:20.914888Z"
    },
    "papermill": {
     "duration": 0.015267,
     "end_time": "2022-12-25T15:52:20.917868",
     "exception": false,
     "start_time": "2022-12-25T15:52:20.902601",
     "status": "completed"
    },
    "tags": []
   },
   "outputs": [
    {
     "data": {
      "text/plain": [
       "array([[ 4. ],\n",
       "       [ 5.3],\n",
       "       [ 2.2],\n",
       "       [ 1.3],\n",
       "       [ 5.1],\n",
       "       [ 9. ],\n",
       "       [ 7.9],\n",
       "       [ 1.1],\n",
       "       [ 6.8],\n",
       "       [ 8.7],\n",
       "       [ 3.7],\n",
       "       [ 2. ],\n",
       "       [ 6. ],\n",
       "       [ 4. ],\n",
       "       [ 1.5],\n",
       "       [ 4.9],\n",
       "       [ 9.5],\n",
       "       [ 3. ],\n",
       "       [ 3.9],\n",
       "       [ 4.1],\n",
       "       [10.3],\n",
       "       [10.5],\n",
       "       [ 9.6],\n",
       "       [ 2.9]])"
      ]
     },
     "execution_count": 8,
     "metadata": {},
     "output_type": "execute_result"
    }
   ],
   "source": [
    "X_train"
   ]
  },
  {
   "cell_type": "code",
   "execution_count": 9,
   "id": "e798a565",
   "metadata": {
    "execution": {
     "iopub.execute_input": "2022-12-25T15:52:20.931877Z",
     "iopub.status.busy": "2022-12-25T15:52:20.930929Z",
     "iopub.status.idle": "2022-12-25T15:52:20.936968Z",
     "shell.execute_reply": "2022-12-25T15:52:20.935990Z"
    },
    "papermill": {
     "duration": 0.014156,
     "end_time": "2022-12-25T15:52:20.938874",
     "exception": false,
     "start_time": "2022-12-25T15:52:20.924718",
     "status": "completed"
    },
    "tags": []
   },
   "outputs": [
    {
     "data": {
      "text/plain": [
       "array([[7.1],\n",
       "       [3.2],\n",
       "       [3.2],\n",
       "       [5.9],\n",
       "       [8.2],\n",
       "       [4.5]])"
      ]
     },
     "execution_count": 9,
     "metadata": {},
     "output_type": "execute_result"
    }
   ],
   "source": [
    "X_test"
   ]
  },
  {
   "cell_type": "code",
   "execution_count": 10,
   "id": "5012e0e4",
   "metadata": {
    "execution": {
     "iopub.execute_input": "2022-12-25T15:52:20.951237Z",
     "iopub.status.busy": "2022-12-25T15:52:20.950872Z",
     "iopub.status.idle": "2022-12-25T15:52:20.957761Z",
     "shell.execute_reply": "2022-12-25T15:52:20.956713Z"
    },
    "papermill": {
     "duration": 0.015618,
     "end_time": "2022-12-25T15:52:20.959877",
     "exception": false,
     "start_time": "2022-12-25T15:52:20.944259",
     "status": "completed"
    },
    "tags": []
   },
   "outputs": [
    {
     "data": {
      "text/plain": [
       "array([[ 56957.],\n",
       "       [ 83088.],\n",
       "       [ 39891.],\n",
       "       [ 46205.],\n",
       "       [ 66029.],\n",
       "       [105582.],\n",
       "       [101302.],\n",
       "       [ 39343.],\n",
       "       [ 91738.],\n",
       "       [109431.],\n",
       "       [ 57189.],\n",
       "       [ 43525.],\n",
       "       [ 93940.],\n",
       "       [ 55794.],\n",
       "       [ 37731.],\n",
       "       [ 67938.],\n",
       "       [116969.],\n",
       "       [ 60150.],\n",
       "       [ 63218.],\n",
       "       [ 57081.],\n",
       "       [122391.],\n",
       "       [121872.],\n",
       "       [112635.],\n",
       "       [ 56642.]])"
      ]
     },
     "execution_count": 10,
     "metadata": {},
     "output_type": "execute_result"
    }
   ],
   "source": [
    "y_train"
   ]
  },
  {
   "cell_type": "code",
   "execution_count": 11,
   "id": "b281c848",
   "metadata": {
    "execution": {
     "iopub.execute_input": "2022-12-25T15:52:20.972545Z",
     "iopub.status.busy": "2022-12-25T15:52:20.971668Z",
     "iopub.status.idle": "2022-12-25T15:52:20.977727Z",
     "shell.execute_reply": "2022-12-25T15:52:20.976963Z"
    },
    "papermill": {
     "duration": 0.014482,
     "end_time": "2022-12-25T15:52:20.979724",
     "exception": false,
     "start_time": "2022-12-25T15:52:20.965242",
     "status": "completed"
    },
    "tags": []
   },
   "outputs": [
    {
     "data": {
      "text/plain": [
       "array([[ 98273.],\n",
       "       [ 54445.],\n",
       "       [ 64445.],\n",
       "       [ 81363.],\n",
       "       [113812.],\n",
       "       [ 61111.]])"
      ]
     },
     "execution_count": 11,
     "metadata": {},
     "output_type": "execute_result"
    }
   ],
   "source": [
    "y_test"
   ]
  },
  {
   "cell_type": "code",
   "execution_count": 12,
   "id": "b528669e",
   "metadata": {
    "execution": {
     "iopub.execute_input": "2022-12-25T15:52:20.992890Z",
     "iopub.status.busy": "2022-12-25T15:52:20.992291Z",
     "iopub.status.idle": "2022-12-25T15:52:20.998197Z",
     "shell.execute_reply": "2022-12-25T15:52:20.997187Z"
    },
    "papermill": {
     "duration": 0.015552,
     "end_time": "2022-12-25T15:52:21.000990",
     "exception": false,
     "start_time": "2022-12-25T15:52:20.985438",
     "status": "completed"
    },
    "tags": []
   },
   "outputs": [
    {
     "data": {
      "text/plain": [
       "True"
      ]
     },
     "execution_count": 12,
     "metadata": {},
     "output_type": "execute_result"
    }
   ],
   "source": [
    "len(X_train)==len(y_train)"
   ]
  },
  {
   "cell_type": "code",
   "execution_count": 13,
   "id": "a4fe3a67",
   "metadata": {
    "execution": {
     "iopub.execute_input": "2022-12-25T15:52:21.016518Z",
     "iopub.status.busy": "2022-12-25T15:52:21.015545Z",
     "iopub.status.idle": "2022-12-25T15:52:21.086489Z",
     "shell.execute_reply": "2022-12-25T15:52:21.085508Z"
    },
    "papermill": {
     "duration": 0.081943,
     "end_time": "2022-12-25T15:52:21.089208",
     "exception": false,
     "start_time": "2022-12-25T15:52:21.007265",
     "status": "completed"
    },
    "tags": []
   },
   "outputs": [],
   "source": [
    "from sklearn.linear_model import LinearRegression\n",
    "reg=LinearRegression()"
   ]
  },
  {
   "cell_type": "code",
   "execution_count": 14,
   "id": "c094aa92",
   "metadata": {
    "execution": {
     "iopub.execute_input": "2022-12-25T15:52:21.102269Z",
     "iopub.status.busy": "2022-12-25T15:52:21.101899Z",
     "iopub.status.idle": "2022-12-25T15:52:21.122831Z",
     "shell.execute_reply": "2022-12-25T15:52:21.121713Z"
    },
    "papermill": {
     "duration": 0.030048,
     "end_time": "2022-12-25T15:52:21.125212",
     "exception": false,
     "start_time": "2022-12-25T15:52:21.095164",
     "status": "completed"
    },
    "tags": []
   },
   "outputs": [
    {
     "data": {
      "text/plain": [
       "LinearRegression()"
      ]
     },
     "execution_count": 14,
     "metadata": {},
     "output_type": "execute_result"
    }
   ],
   "source": [
    "reg.fit(X_train,y_train)"
   ]
  },
  {
   "cell_type": "code",
   "execution_count": 15,
   "id": "d75ed3f1",
   "metadata": {
    "execution": {
     "iopub.execute_input": "2022-12-25T15:52:21.139019Z",
     "iopub.status.busy": "2022-12-25T15:52:21.138090Z",
     "iopub.status.idle": "2022-12-25T15:52:21.144216Z",
     "shell.execute_reply": "2022-12-25T15:52:21.143511Z"
    },
    "papermill": {
     "duration": 0.015161,
     "end_time": "2022-12-25T15:52:21.146299",
     "exception": false,
     "start_time": "2022-12-25T15:52:21.131138",
     "status": "completed"
    },
    "tags": []
   },
   "outputs": [],
   "source": [
    "y_pred=reg.predict(X_test)"
   ]
  },
  {
   "cell_type": "code",
   "execution_count": 16,
   "id": "4296b243",
   "metadata": {
    "execution": {
     "iopub.execute_input": "2022-12-25T15:52:21.159993Z",
     "iopub.status.busy": "2022-12-25T15:52:21.158933Z",
     "iopub.status.idle": "2022-12-25T15:52:21.166444Z",
     "shell.execute_reply": "2022-12-25T15:52:21.165502Z"
    },
    "papermill": {
     "duration": 0.016369,
     "end_time": "2022-12-25T15:52:21.168540",
     "exception": false,
     "start_time": "2022-12-25T15:52:21.152171",
     "status": "completed"
    },
    "tags": []
   },
   "outputs": [
    {
     "data": {
      "text/plain": [
       "49520090.71517869"
      ]
     },
     "execution_count": 16,
     "metadata": {},
     "output_type": "execute_result"
    }
   ],
   "source": [
    "np.mean((reg.predict(X_test) - y_test)**2)"
   ]
  },
  {
   "cell_type": "code",
   "execution_count": 17,
   "id": "ad43970a",
   "metadata": {
    "execution": {
     "iopub.execute_input": "2022-12-25T15:52:21.181367Z",
     "iopub.status.busy": "2022-12-25T15:52:21.181014Z",
     "iopub.status.idle": "2022-12-25T15:52:21.443489Z",
     "shell.execute_reply": "2022-12-25T15:52:21.442394Z"
    },
    "papermill": {
     "duration": 0.271605,
     "end_time": "2022-12-25T15:52:21.445895",
     "exception": false,
     "start_time": "2022-12-25T15:52:21.174290",
     "status": "completed"
    },
    "tags": []
   },
   "outputs": [
    {
     "data": {
      "text/plain": [
       "Text(0.5, 1.0, 'TRAINING PREDICTION')"
      ]
     },
     "execution_count": 17,
     "metadata": {},
     "output_type": "execute_result"
    },
    {
     "data": {
      "image/png": "[encoded data removed]",
      "text/plain": [
       "<Figure size 432x288 with 1 Axes>"
      ]
     },
     "metadata": {
      "needs_background": "light"
     },
     "output_type": "display_data"
    }
   ],
   "source": [
    "plt.scatter(X_train,y_train,color='red')\n",
    "plt.plot(X_train,reg.predict(X_train))\n",
    "plt.title('TRAINING PREDICTION')"
   ]
  },
  {
   "cell_type": "code",
   "execution_count": 18,
   "id": "f7356ea3",
   "metadata": {
    "execution": {
     "iopub.execute_input": "2022-12-25T15:52:21.462838Z",
     "iopub.status.busy": "2022-12-25T15:52:21.461738Z",
     "iopub.status.idle": "2022-12-25T15:52:21.681781Z",
     "shell.execute_reply": "2022-12-25T15:52:21.680981Z"
    },
    "papermill": {
     "duration": 0.230152,
     "end_time": "2022-12-25T15:52:21.684094",
     "exception": false,
     "start_time": "2022-12-25T15:52:21.453942",
     "status": "completed"
    },
    "tags": []
   },
   "outputs": [
    {
     "data": {
      "text/plain": [
       "Text(0.5, 1.0, 'TEST PREDICTION')"
      ]
     },
     "execution_count": 18,
     "metadata": {},
     "output_type": "execute_result"
    },
    {
     "data": {
      "image/png": "[encoded data removed]",
      "text/plain": [
       "<Figure size 432x288 with 1 Axes>"
      ]
     },
     "metadata": {
      "needs_background": "light"
     },
     "output_type": "display_data"
    }
   ],
   "source": [
    "plt.scatter(X_test,y_test,color='red')\n",
    "plt.plot(X_test,y_pred)\n",
    "plt.title('TEST PREDICTION')"
   ]
  }
 ],
 "metadata": {
  "kernelspec": {
   "display_name": "Python 3",
   "language": "python",
   "name": "python3"
  },
  "language_info": {
   "codemirror_mode": {
    "name": "ipython",
    "version": 3
   },
   "file_extension": ".py",
   "mimetype": "text/x-python",
   "name": "python",
   "nbconvert_exporter": "python",
   "pygments_lexer": "ipython3",
   "version": "3.7.12"
  },
  "papermill": {
   "default_parameters": {},
   "duration": 10.671862,
   "end_time": "2022-12-25T15:52:22.412182",
   "environment_variables": {},
   "exception": null,
   "input_path": "__notebook__.ipynb",
   "output_path": "__notebook__.ipynb",
   "parameters": {},
   "start_time": "2022-12-25T15:52:11.740320",
   "version": "2.3.4"
  }
 },
 "nbformat": 4,
 "nbformat_minor": 5
}
